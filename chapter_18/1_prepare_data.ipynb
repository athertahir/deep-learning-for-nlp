{
  "nbformat_minor": 1, 
  "nbformat": 4, 
  "cells": [
    {
      "source": [
        "# load doc into memory\n", 
        "def load_doc(filename):\n", 
        "\t# open the file as read only\n", 
        "\tfile = open(filename, 'r')\n", 
        "\t# read all text\n", 
        "\ttext = file.read()\n", 
        "\t# close the file\n", 
        "\tfile.close()\n", 
        "\treturn text\n", 
        "\n", 
        "# save tokens to file, one dialog per line\n", 
        "def save_doc(lines, filename):\n", 
        "\tdata = '\\n'.join(lines)\n", 
        "\tfile = open(filename, 'w')\n", 
        "\tfile.write(data)\n", 
        "\tfile.close()\n", 
        "\n", 
        "# load text\n", 
        "raw_text = load_doc('rhyme.txt')\n", 
        "print(raw_text)\n", 
        "# clean\n", 
        "tokens = raw_text.split()\n", 
        "raw_text = ' '.join(tokens)\n", 
        "# organize into sequences of characters\n", 
        "length = 10\n", 
        "sequences = list()\n", 
        "for i in range(length, len(raw_text)):\n", 
        "\t# select sequence of tokens\n", 
        "\tseq = raw_text[i-length:i+1]\n", 
        "\t# store\n", 
        "\tsequences.append(seq)\n", 
        "print('Total Sequences: %d' % len(sequences))\n", 
        "# save sequences to file\n", 
        "out_filename = 'char_sequences.txt'\n", 
        "save_doc(sequences, out_filename)"
      ], 
      "cell_type": "code", 
      "execution_count": null, 
      "outputs": [], 
      "metadata": {}
    }
  ], 
  "metadata": {
    "kernelspec": {
      "display_name": "Python 3", 
      "name": "python3", 
      "language": "python"
    }, 
    "language_info": {
      "mimetype": "text/x-python", 
      "nbconvert_exporter": "python", 
      "name": "python", 
      "file_extension": ".py", 
      "version": "3.6.1", 
      "pygments_lexer": "ipython3", 
      "codemirror_mode": {
        "version": 3, 
        "name": "ipython"
      }
    }, 
    "anaconda-cloud": {}
  }
}