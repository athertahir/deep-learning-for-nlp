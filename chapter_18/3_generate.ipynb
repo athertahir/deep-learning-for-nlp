{
  "nbformat_minor": 1, 
  "nbformat": 4, 
  "cells": [
    {
      "source": [
        "from pickle import load\n", 
        "from numpy import array\n", 
        "from keras.models import load_model\n", 
        "from keras.utils import to_categorical\n", 
        "from keras.preprocessing.sequence import pad_sequences\n", 
        "\n", 
        "# generate a sequence of characters with a language model\n", 
        "def generate_seq(model, mapping, seq_length, seed_text, n_chars):\n", 
        "\tin_text = seed_text\n", 
        "\t# generate a fixed number of characters\n", 
        "\tfor _ in range(n_chars):\n", 
        "\t\t# encode the characters as integers\n", 
        "\t\tencoded = [mapping[char] for char in in_text]\n", 
        "\t\t# truncate sequences to a fixed length\n", 
        "\t\tencoded = pad_sequences([encoded], maxlen=seq_length, truncating='pre')\n", 
        "\t\t# one hot encode\n", 
        "\t\tencoded = to_categorical(encoded, num_classes=len(mapping))\n", 
        "\t\t# predict character\n", 
        "\t\tyhat = model.predict_classes(encoded, verbose=0)\n", 
        "\t\t# reverse map integer to character\n", 
        "\t\tout_char = ''\n", 
        "\t\tfor char, index in mapping.items():\n", 
        "\t\t\tif index == yhat:\n", 
        "\t\t\t\tout_char = char\n", 
        "\t\t\t\tbreak\n", 
        "\t\t# append to input\n", 
        "\t\tin_text += out_char\n", 
        "\treturn in_text\n", 
        "\n", 
        "# load the model\n", 
        "model = load_model('model.h5')\n", 
        "# load the mapping\n", 
        "mapping = load(open('mapping.pkl', 'rb'))\n", 
        "# test start of rhyme\n", 
        "print(generate_seq(model, mapping, 10, 'Sing a son', 20))\n", 
        "# test mid-line\n", 
        "print(generate_seq(model, mapping, 10, 'king was i', 20))\n", 
        "# test not in original\n", 
        "print(generate_seq(model, mapping, 10, 'hello worl', 20))"
      ], 
      "cell_type": "code", 
      "execution_count": null, 
      "outputs": [], 
      "metadata": {}
    }
  ], 
  "metadata": {
    "kernelspec": {
      "display_name": "Python 3", 
      "name": "python3", 
      "language": "python"
    }, 
    "language_info": {
      "mimetype": "text/x-python", 
      "nbconvert_exporter": "python", 
      "name": "python", 
      "file_extension": ".py", 
      "version": "3.6.1", 
      "pygments_lexer": "ipython3", 
      "codemirror_mode": {
        "version": 3, 
        "name": "ipython"
      }
    }, 
    "anaconda-cloud": {}
  }
}