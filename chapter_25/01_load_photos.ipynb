{
  "nbformat_minor": 1, 
  "nbformat": 4, 
  "cells": [
    {
      "source": [
        "from os import listdir\n", 
        "from os import path\n", 
        "from keras.preprocessing.image import load_img\n", 
        "from keras.preprocessing.image import img_to_array\n", 
        "from keras.applications.vgg16 import preprocess_input\n", 
        "\n", 
        "def load_photos(directory):\n", 
        "\timages = dict()\n", 
        "\tfor name in listdir(directory):\n", 
        "\t\t# load an image from file\n", 
        "\t\tfilename = path.join(directory, name)\n", 
        "\t\timage = load_img(filename, target_size=(224, 224))\n", 
        "\t\t# convert the image pixels to a numpy array\n", 
        "\t\timage = img_to_array(image)\n", 
        "\t\t# reshape data for the model\n", 
        "\t\timage = image.reshape((1, image.shape[0], image.shape[1], image.shape[2]))\n", 
        "\t\t# prepare the image for the VGG model\n", 
        "\t\timage = preprocess_input(image)\n", 
        "\t\t# get image id\n", 
        "\t\timage_id = name.split('.')[0]\n", 
        "\t\timages[image_id] = image\n", 
        "\treturn images\n", 
        "\n", 
        "# load images\n", 
        "directory = 'Flicker8k_Dataset'\n", 
        "images = load_photos(directory)\n", 
        "print('Loaded Images: %d' % len(images))"
      ], 
      "cell_type": "code", 
      "execution_count": null, 
      "outputs": [], 
      "metadata": {}
    }
  ], 
  "metadata": {
    "kernelspec": {
      "display_name": "Python 3", 
      "name": "python3", 
      "language": "python"
    }, 
    "language_info": {
      "mimetype": "text/x-python", 
      "nbconvert_exporter": "python", 
      "name": "python", 
      "file_extension": ".py", 
      "version": "3.6.1", 
      "pygments_lexer": "ipython3", 
      "codemirror_mode": {
        "version": 3, 
        "name": "ipython"
      }
    }, 
    "anaconda-cloud": {}
  }
}