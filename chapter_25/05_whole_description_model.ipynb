{
  "nbformat_minor": 1, 
  "nbformat": 4, 
  "cells": [
    {
      "source": [
        "from keras.preprocessing.text import Tokenizer\n", 
        "from keras.preprocessing.sequence import pad_sequences\n", 
        "from keras.utils import to_categorical\n", 
        "\n", 
        "# load doc into memory\n", 
        "def load_doc(filename):\n", 
        "\t# open the file as read only\n", 
        "\tfile = open(filename, 'r')\n", 
        "\t# read all text\n", 
        "\ttext = file.read()\n", 
        "\t# close the file\n", 
        "\tfile.close()\n", 
        "\treturn text\n", 
        "\n", 
        "# load clean descriptions into memory\n", 
        "def load_clean_descriptions(filename):\n", 
        "\tdoc = load_doc(filename)\n", 
        "\tdescriptions = dict()\n", 
        "\tfor line in doc.split('\\n'):\n", 
        "\t\t# split line by white space\n", 
        "\t\ttokens = line.split()\n", 
        "\t\t# split id from description\n", 
        "\t\timage_id, image_desc = tokens[0], tokens[1:]\n", 
        "\t\t# store\n", 
        "\t\tdescriptions[image_id] = ' '.join(image_desc)\n", 
        "\treturn descriptions\n", 
        "\n", 
        "descriptions = load_clean_descriptions('descriptions.txt')\n", 
        "print('Loaded %d' % (len(descriptions)))\n", 
        "# extract all text\n", 
        "desc_text = list(descriptions.values())\n", 
        "# prepare tokenizer\n", 
        "tokenizer = Tokenizer()\n", 
        "tokenizer.fit_on_texts(desc_text)\n", 
        "vocab_size = len(tokenizer.word_index) + 1\n", 
        "print('Vocabulary Size: %d' % vocab_size)\n", 
        "# integer encode descriptions\n", 
        "sequences = tokenizer.texts_to_sequences(desc_text)\n", 
        "# pad all sequences to a fixed length\n", 
        "max_length = max(len(s) for s in sequences)\n", 
        "print('Description Length: %d' % max_length)\n", 
        "padded = pad_sequences(sequences, maxlen=max_length, padding='post')\n", 
        "# one hot encode\n", 
        "y = to_categorical(padded, num_classes=vocab_size)\n", 
        "y = y.reshape((len(descriptions), max_length, vocab_size))\n", 
        "print(y.shape)"
      ], 
      "cell_type": "code", 
      "execution_count": null, 
      "outputs": [], 
      "metadata": {}
    }
  ], 
  "metadata": {
    "kernelspec": {
      "display_name": "Python 3", 
      "name": "python3", 
      "language": "python"
    }, 
    "language_info": {
      "mimetype": "text/x-python", 
      "nbconvert_exporter": "python", 
      "name": "python", 
      "file_extension": ".py", 
      "version": "3.6.1", 
      "pygments_lexer": "ipython3", 
      "codemirror_mode": {
        "version": 3, 
        "name": "ipython"
      }
    }, 
    "anaconda-cloud": {}
  }
}