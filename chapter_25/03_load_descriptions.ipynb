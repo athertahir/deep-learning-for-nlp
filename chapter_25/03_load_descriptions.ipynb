{
  "nbformat_minor": 1, 
  "nbformat": 4, 
  "cells": [
    {
      "source": [
        "# load doc into memory\n", 
        "def load_doc(filename):\n", 
        "\t# open the file as read only\n", 
        "\tfile = open(filename, 'r')\n", 
        "\t# read all text\n", 
        "\ttext = file.read()\n", 
        "\t# close the file\n", 
        "\tfile.close()\n", 
        "\treturn text\n", 
        "\n", 
        "# extract descriptions for images\n", 
        "def load_descriptions(doc):\n", 
        "\tmapping = dict()\n", 
        "\t# process lines\n", 
        "\tfor line in doc.split('\\n'):\n", 
        "\t\t# split line by white space\n", 
        "\t\ttokens = line.split()\n", 
        "\t\tif len(line) < 2:\n", 
        "\t\t\tcontinue\n", 
        "\t\t# take the first token as the image id, the rest as the description\n", 
        "\t\timage_id, image_desc = tokens[0], tokens[1:]\n", 
        "\t\t# remove filename from image id\n", 
        "\t\timage_id = image_id.split('.')[0]\n", 
        "\t\t# convert description tokens back to string\n", 
        "\t\timage_desc = ' '.join(image_desc)\n", 
        "\t\t# store the first description for each image\n", 
        "\t\tif image_id not in mapping:\n", 
        "\t\t\tmapping[image_id] = image_desc\n", 
        "\treturn mapping\n", 
        "\n", 
        "filename = 'Flickr8k_text/Flickr8k.token.txt'\n", 
        "doc = load_doc(filename)\n", 
        "descriptions = load_descriptions(doc)\n", 
        "print('Loaded: %d ' % len(descriptions))"
      ], 
      "cell_type": "code", 
      "execution_count": null, 
      "outputs": [], 
      "metadata": {}
    }
  ], 
  "metadata": {
    "kernelspec": {
      "display_name": "Python 3", 
      "name": "python3", 
      "language": "python"
    }, 
    "language_info": {
      "mimetype": "text/x-python", 
      "nbconvert_exporter": "python", 
      "name": "python", 
      "file_extension": ".py", 
      "version": "3.6.1", 
      "pygments_lexer": "ipython3", 
      "codemirror_mode": {
        "version": 3, 
        "name": "ipython"
      }
    }, 
    "anaconda-cloud": {}
  }
}