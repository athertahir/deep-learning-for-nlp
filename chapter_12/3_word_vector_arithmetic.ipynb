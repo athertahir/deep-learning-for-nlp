{
  "nbformat_minor": 1, 
  "nbformat": 4, 
  "cells": [
    {
      "source": [
        "from gensim.models import KeyedVectors\n", 
        "# load the google word2vec model\n", 
        "filename = 'GoogleNews-vectors-negative300.bin'\n", 
        "model = KeyedVectors.load_word2vec_format(filename, binary=True)\n", 
        "# calculate: (king - man) + woman = ?\n", 
        "result = model.most_similar(positive=['woman', 'king'], negative=['man'], topn=1)\n", 
        "print(result)"
      ], 
      "cell_type": "code", 
      "execution_count": null, 
      "outputs": [], 
      "metadata": {}
    }
  ], 
  "metadata": {
    "kernelspec": {
      "display_name": "Python 3", 
      "name": "python3", 
      "language": "python"
    }, 
    "language_info": {
      "mimetype": "text/x-python", 
      "nbconvert_exporter": "python", 
      "name": "python", 
      "file_extension": ".py", 
      "version": "3.6.1", 
      "pygments_lexer": "ipython3", 
      "codemirror_mode": {
        "version": 3, 
        "name": "ipython"
      }
    }, 
    "anaconda-cloud": {}
  }
}