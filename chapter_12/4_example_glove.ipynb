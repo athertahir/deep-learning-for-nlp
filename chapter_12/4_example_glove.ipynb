{
  "nbformat_minor": 1, 
  "nbformat": 4, 
  "cells": [
    {
      "source": [
        "from gensim.models import KeyedVectors\n", 
        "from gensim.scripts.glove2word2vec import glove2word2vec\n", 
        "\n", 
        "# convert glove to word2vec format\n", 
        "glove_input_file = 'glove.6B.100d.txt'\n", 
        "word2vec_output_file = 'glove.6B.100d.txt.word2vec'\n", 
        "glove2word2vec(glove_input_file, word2vec_output_file)\n", 
        "\n", 
        "# load the converted model\n", 
        "filename = 'glove.6B.100d.txt.word2vec'\n", 
        "model = KeyedVectors.load_word2vec_format(filename, binary=False)\n", 
        "# calculate: (king - man) + woman = ?\n", 
        "result = model.most_similar(positive=['woman', 'king'], negative=['man'], topn=1)\n", 
        "print(result)"
      ], 
      "cell_type": "code", 
      "execution_count": null, 
      "outputs": [], 
      "metadata": {}
    }
  ], 
  "metadata": {
    "kernelspec": {
      "display_name": "Python 3", 
      "name": "python3", 
      "language": "python"
    }, 
    "language_info": {
      "mimetype": "text/x-python", 
      "nbconvert_exporter": "python", 
      "name": "python", 
      "file_extension": ".py", 
      "version": "3.6.1", 
      "pygments_lexer": "ipython3", 
      "codemirror_mode": {
        "version": 3, 
        "name": "ipython"
      }
    }, 
    "anaconda-cloud": {}
  }
}