{
  "nbformat_minor": 1, 
  "nbformat": 4, 
  "cells": [
    {
      "source": [
        "from numpy import array\n", 
        "from keras.preprocessing.text import one_hot\n", 
        "from keras.preprocessing.sequence import pad_sequences\n", 
        "from keras.models import Sequential\n", 
        "from keras.layers import Dense\n", 
        "from keras.layers import Flatten\n", 
        "from keras.layers.embeddings import Embedding\n", 
        "# define documents\n", 
        "docs = ['Well done!',\n", 
        "\t\t'Good work',\n", 
        "\t\t'Great effort',\n", 
        "\t\t'nice work',\n", 
        "\t\t'Excellent!',\n", 
        "\t\t'Weak',\n", 
        "\t\t'Poor effort!',\n", 
        "\t\t'not good',\n", 
        "\t\t'poor work',\n", 
        "\t\t'Could have done better.']\n", 
        "# define class labels\n", 
        "labels = array([1,1,1,1,1,0,0,0,0,0])\n", 
        "# integer encode the documents\n", 
        "vocab_size = 50\n", 
        "encoded_docs = [one_hot(d, vocab_size) for d in docs]\n", 
        "print(encoded_docs)\n", 
        "# pad documents to a max length of 4 words\n", 
        "max_length = 4\n", 
        "padded_docs = pad_sequences(encoded_docs, maxlen=max_length, padding='post')\n", 
        "print(padded_docs)\n", 
        "# define the model\n", 
        "model = Sequential()\n", 
        "model.add(Embedding(vocab_size, 8, input_length=max_length))\n", 
        "model.add(Flatten())\n", 
        "model.add(Dense(1, activation='sigmoid'))\n", 
        "# compile the model\n", 
        "model.compile(optimizer='adam', loss='binary_crossentropy', metrics=['acc'])\n", 
        "# summarize the model\n", 
        "model.summary()\n", 
        "# fit the model\n", 
        "model.fit(padded_docs, labels, epochs=50, verbose=0)\n", 
        "# evaluate the model\n", 
        "loss, accuracy = model.evaluate(padded_docs, labels, verbose=0)\n", 
        "print('Accuracy: %f' % (accuracy*100))"
      ], 
      "cell_type": "code", 
      "execution_count": null, 
      "outputs": [], 
      "metadata": {}
    }
  ], 
  "metadata": {
    "kernelspec": {
      "display_name": "Python 3", 
      "name": "python3", 
      "language": "python"
    }, 
    "language_info": {
      "mimetype": "text/x-python", 
      "nbconvert_exporter": "python", 
      "name": "python", 
      "file_extension": ".py", 
      "version": "3.6.1", 
      "pygments_lexer": "ipython3", 
      "codemirror_mode": {
        "version": 3, 
        "name": "ipython"
      }
    }, 
    "anaconda-cloud": {}
  }
}