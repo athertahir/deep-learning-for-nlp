{
  "nbformat_minor": 1, 
  "nbformat": 4, 
  "cells": [
    {
      "source": [
        "from pickle import load\n", 
        "from pickle import dump\n", 
        "from numpy.random import shuffle\n", 
        "\n", 
        "# load a clean dataset\n", 
        "def load_clean_sentences(filename):\n", 
        "\treturn load(open(filename, 'rb'))\n", 
        "\n", 
        "# save a list of clean sentences to file\n", 
        "def save_clean_data(sentences, filename):\n", 
        "\tdump(sentences, open(filename, 'wb'))\n", 
        "\tprint('Saved: %s' % filename)\n", 
        "\n", 
        "# load dataset\n", 
        "raw_dataset = load_clean_sentences('english-german.pkl')\n", 
        "\n", 
        "# reduce dataset size\n", 
        "n_sentences = 10000\n", 
        "dataset = raw_dataset[:n_sentences, :]\n", 
        "# random shuffle\n", 
        "shuffle(dataset)\n", 
        "# split into train/test\n", 
        "train, test = dataset[:9000], dataset[9000:]\n", 
        "# save\n", 
        "save_clean_data(dataset, 'english-german-both.pkl')\n", 
        "save_clean_data(train, 'english-german-train.pkl')\n", 
        "save_clean_data(test, 'english-german-test.pkl')"
      ], 
      "cell_type": "code", 
      "execution_count": null, 
      "outputs": [], 
      "metadata": {}
    }
  ], 
  "metadata": {
    "kernelspec": {
      "display_name": "Python 3", 
      "name": "python3", 
      "language": "python"
    }, 
    "language_info": {
      "mimetype": "text/x-python", 
      "nbconvert_exporter": "python", 
      "name": "python", 
      "file_extension": ".py", 
      "version": "3.6.1", 
      "pygments_lexer": "ipython3", 
      "codemirror_mode": {
        "version": 3, 
        "name": "ipython"
      }
    }, 
    "anaconda-cloud": {}
  }
}