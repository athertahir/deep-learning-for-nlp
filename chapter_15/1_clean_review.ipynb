{
  "nbformat_minor": 1, 
  "nbformat": 4, 
  "cells": [
    {
      "source": [
        "from nltk.corpus import stopwords\n", 
        "import string\n", 
        "import re\n", 
        "\n", 
        "# load doc into memory\n", 
        "def load_doc(filename):\n", 
        "\t# open the file as read only\n", 
        "\tfile = open(filename, 'r')\n", 
        "\t# read all text\n", 
        "\ttext = file.read()\n", 
        "\t# close the file\n", 
        "\tfile.close()\n", 
        "\treturn text\n", 
        "\n", 
        "# turn a doc into clean tokens\n", 
        "def clean_doc(doc):\n", 
        "\t# split into tokens by white space\n", 
        "\ttokens = doc.split()\n", 
        "\t# prepare regex for char filtering\n", 
        "\tre_punc = re.compile('[%s]' % re.escape(string.punctuation))\n", 
        "\t# remove punctuation from each word\n", 
        "\ttokens = [re_punc.sub('', w) for w in tokens]\n", 
        "\t# remove remaining tokens that are not alphabetic\n", 
        "\ttokens = [word for word in tokens if word.isalpha()]\n", 
        "\t# filter out stop words\n", 
        "\tstop_words = set(stopwords.words('english'))\n", 
        "\ttokens = [w for w in tokens if not w in stop_words]\n", 
        "\t# filter out short tokens\n", 
        "\ttokens = [word for word in tokens if len(word) > 1]\n", 
        "\treturn tokens\n", 
        "\n", 
        "# load the document\n", 
        "filename = 'txt_sentoken/pos/cv000_29590.txt'\n", 
        "text = load_doc(filename)\n", 
        "tokens = clean_doc(text)\n", 
        "print(tokens)"
      ], 
      "cell_type": "code", 
      "execution_count": null, 
      "outputs": [], 
      "metadata": {}
    }
  ], 
  "metadata": {
    "kernelspec": {
      "display_name": "Python 3", 
      "name": "python3", 
      "language": "python"
    }, 
    "language_info": {
      "mimetype": "text/x-python", 
      "nbconvert_exporter": "python", 
      "name": "python", 
      "file_extension": ".py", 
      "version": "3.6.1", 
      "pygments_lexer": "ipython3", 
      "codemirror_mode": {
        "version": 3, 
        "name": "ipython"
      }
    }, 
    "anaconda-cloud": {}
  }
}