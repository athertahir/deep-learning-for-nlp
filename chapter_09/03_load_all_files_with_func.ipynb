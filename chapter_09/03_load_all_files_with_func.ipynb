{
  "nbformat_minor": 1, 
  "nbformat": 4, 
  "cells": [
    {
      "source": [
        "from os import listdir\n", 
        "\n", 
        "# load doc into memory\n", 
        "def load_doc(filename):\n", 
        "\t# open the file as read only\n", 
        "\tfile = open(filename, 'r')\n", 
        "\t# read all text\n", 
        "\ttext = file.read()\n", 
        "\t# close the file\n", 
        "\tfile.close()\n", 
        "\treturn text\n", 
        "\n", 
        "# load all docs in a directory\n", 
        "def process_docs(directory):\n", 
        "\t# walk through all files in the folder\n", 
        "\tfor filename in listdir(directory):\n", 
        "\t\t# skip files that do not have the right extension\n", 
        "\t\tif not filename.endswith(\".txt\"):\n", 
        "\t\t\tnext\n", 
        "\t\t# create the full path of the file to open\n", 
        "\t\tpath = directory + '/' + filename\n", 
        "\t\t# load document\n", 
        "\t\tdoc = load_doc(path)\n", 
        "\t\tprint('Loaded %s' % filename)\n", 
        "\n", 
        "# specify directory to load\n", 
        "directory = 'txt_sentoken/neg'\n", 
        "process_docs(directory)"
      ], 
      "cell_type": "code", 
      "execution_count": null, 
      "outputs": [], 
      "metadata": {}
    }
  ], 
  "metadata": {
    "kernelspec": {
      "display_name": "Python 3", 
      "name": "python3", 
      "language": "python"
    }, 
    "language_info": {
      "mimetype": "text/x-python", 
      "nbconvert_exporter": "python", 
      "name": "python", 
      "file_extension": ".py", 
      "version": "3.6.1", 
      "pygments_lexer": "ipython3", 
      "codemirror_mode": {
        "version": 3, 
        "name": "ipython"
      }
    }, 
    "anaconda-cloud": {}
  }
}