{
  "nbformat_minor": 1, 
  "nbformat": 4, 
  "cells": [
    {
      "source": [
        "from nltk.corpus import stopwords\n", 
        "import string\n", 
        "import re\n", 
        "\n", 
        "# load doc into memory\n", 
        "def load_doc(filename):\n", 
        "\t# open the file as read only\n", 
        "\tfile = open(filename, 'r')\n", 
        "\t# read all text\n", 
        "\ttext = file.read()\n", 
        "\t# close the file\n", 
        "\tfile.close()\n", 
        "\treturn text\n", 
        "\n", 
        "# load the document\n", 
        "filename = 'txt_sentoken/neg/cv000_29416.txt'\n", 
        "text = load_doc(filename)\n", 
        "# split into tokens by white space\n", 
        "tokens = text.split()\n", 
        "# prepare regex for char filtering\n", 
        "re_punc = re.compile('[%s]' % re.escape(string.punctuation))\n", 
        "# remove punctuation from each word\n", 
        "tokens = [re_punc.sub('', w) for w in tokens]\n", 
        "# remove remaining tokens that are not alphabetic\n", 
        "tokens = [word for word in tokens if word.isalpha()]\n", 
        "# filter out stop words\n", 
        "stop_words = set(stopwords.words('english'))\n", 
        "tokens = [w for w in tokens if not w in stop_words]\n", 
        "# filter out short tokens\n", 
        "tokens = [word for word in tokens if len(word) > 1]\n", 
        "print(tokens)"
      ], 
      "cell_type": "code", 
      "execution_count": null, 
      "outputs": [], 
      "metadata": {}
    }
  ], 
  "metadata": {
    "kernelspec": {
      "display_name": "Python 3", 
      "name": "python3", 
      "language": "python"
    }, 
    "language_info": {
      "mimetype": "text/x-python", 
      "nbconvert_exporter": "python", 
      "name": "python", 
      "file_extension": ".py", 
      "version": "3.6.1", 
      "pygments_lexer": "ipython3", 
      "codemirror_mode": {
        "version": 3, 
        "name": "ipython"
      }
    }, 
    "anaconda-cloud": {}
  }
}