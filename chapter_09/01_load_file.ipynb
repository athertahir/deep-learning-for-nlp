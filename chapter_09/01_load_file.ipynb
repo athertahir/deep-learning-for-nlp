{
  "nbformat_minor": 1, 
  "nbformat": 4, 
  "cells": [
    {
      "source": [
        "# load one file\n", 
        "filename = 'txt_sentoken/neg/cv000_29416.txt'\n", 
        "# open the file as read only\n", 
        "file = open(filename, 'r')\n", 
        "# read all text\n", 
        "text = file.read()\n", 
        "# close the file\n", 
        "file.close()"
      ], 
      "cell_type": "code", 
      "execution_count": null, 
      "outputs": [], 
      "metadata": {}
    }
  ], 
  "metadata": {
    "kernelspec": {
      "display_name": "Python 3", 
      "name": "python3", 
      "language": "python"
    }, 
    "language_info": {
      "mimetype": "text/x-python", 
      "nbconvert_exporter": "python", 
      "name": "python", 
      "file_extension": ".py", 
      "version": "3.6.1", 
      "pygments_lexer": "ipython3", 
      "codemirror_mode": {
        "version": 3, 
        "name": "ipython"
      }
    }, 
    "anaconda-cloud": {}
  }
}