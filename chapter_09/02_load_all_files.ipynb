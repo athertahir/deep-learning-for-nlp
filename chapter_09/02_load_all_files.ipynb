{
  "nbformat_minor": 1, 
  "nbformat": 4, 
  "cells": [
    {
      "source": [
        "from os import listdir\n", 
        "\n", 
        "# load doc into memory\n", 
        "def load_doc(filename):\n", 
        "\t# open the file as read only\n", 
        "\tfile = open(filename, 'r')\n", 
        "\t# read all text\n", 
        "\ttext = file.read()\n", 
        "\t# close the file\n", 
        "\tfile.close()\n", 
        "\treturn text\n", 
        "\n", 
        "# specify directory to load\n", 
        "directory = 'txt_sentoken/neg'\n", 
        "# walk through all files in the folder\n", 
        "for filename in listdir(directory):\n", 
        "\t# skip files that do not have the right extension\n", 
        "\tif not filename.endswith(\".txt\"):\n", 
        "\t\tnext\n", 
        "\t# create the full path of the file to open\n", 
        "\tpath = directory + '/' + filename\n", 
        "\t# load document\n", 
        "\tdoc = load_doc(path)\n", 
        "\tprint('Loaded %s' % filename)"
      ], 
      "cell_type": "code", 
      "execution_count": null, 
      "outputs": [], 
      "metadata": {}
    }
  ], 
  "metadata": {
    "kernelspec": {
      "display_name": "Python 3", 
      "name": "python3", 
      "language": "python"
    }, 
    "language_info": {
      "mimetype": "text/x-python", 
      "nbconvert_exporter": "python", 
      "name": "python", 
      "file_extension": ".py", 
      "version": "3.6.1", 
      "pygments_lexer": "ipython3", 
      "codemirror_mode": {
        "version": 3, 
        "name": "ipython"
      }
    }, 
    "anaconda-cloud": {}
  }
}