{
  "nbformat_minor": 1, 
  "nbformat": 4, 
  "cells": [
    {
      "source": [
        "from keras.preprocessing.text import hashing_trick\n", 
        "from keras.preprocessing.text import text_to_word_sequence\n", 
        "# define the document\n", 
        "text = 'The quick brown fox jumped over the lazy dog.'\n", 
        "# estimate the size of the vocabulary\n", 
        "words = set(text_to_word_sequence(text))\n", 
        "vocab_size = len(words)\n", 
        "print(vocab_size)\n", 
        "# integer encode the document\n", 
        "result = hashing_trick(text, round(vocab_size*1.3), hash_function='md5')\n", 
        "print(result)"
      ], 
      "cell_type": "code", 
      "execution_count": null, 
      "outputs": [], 
      "metadata": {}
    }
  ], 
  "metadata": {
    "kernelspec": {
      "display_name": "Python 3", 
      "name": "python3", 
      "language": "python"
    }, 
    "language_info": {
      "mimetype": "text/x-python", 
      "nbconvert_exporter": "python", 
      "name": "python", 
      "file_extension": ".py", 
      "version": "3.6.1", 
      "pygments_lexer": "ipython3", 
      "codemirror_mode": {
        "version": 3, 
        "name": "ipython"
      }
    }, 
    "anaconda-cloud": {}
  }
}