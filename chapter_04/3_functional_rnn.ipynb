{
  "nbformat_minor": 1, 
  "nbformat": 4, 
  "cells": [
    {
      "source": [
        "# Recurrent Neural Network\n", 
        "from keras.utils import plot_model\n", 
        "from keras.models import Model\n", 
        "from keras.layers import Input\n", 
        "from keras.layers import Dense\n", 
        "from keras.layers.recurrent import LSTM\n", 
        "visible = Input(shape=(100,1))\n", 
        "hidden1 = LSTM(10)(visible)\n", 
        "hidden2 = Dense(10, activation='relu')(hidden1)\n", 
        "output = Dense(1, activation='sigmoid')(hidden2)\n", 
        "model = Model(inputs=visible, outputs=output)\n", 
        "# summarize layers\n", 
        "model.summary()\n", 
        "# plot graph\n", 
        "plot_model(model, to_file='recurrent_neural_network.png')"
      ], 
      "cell_type": "code", 
      "execution_count": null, 
      "outputs": [], 
      "metadata": {}
    }
  ], 
  "metadata": {
    "kernelspec": {
      "display_name": "Python 3", 
      "name": "python3", 
      "language": "python"
    }, 
    "language_info": {
      "mimetype": "text/x-python", 
      "nbconvert_exporter": "python", 
      "name": "python", 
      "file_extension": ".py", 
      "version": "3.6.1", 
      "pygments_lexer": "ipython3", 
      "codemirror_mode": {
        "version": 3, 
        "name": "ipython"
      }
    }, 
    "anaconda-cloud": {}
  }
}