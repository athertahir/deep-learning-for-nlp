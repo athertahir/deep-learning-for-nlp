{
  "nbformat_minor": 1, 
  "nbformat": 4, 
  "cells": [
    {
      "source": [
        "# Multilayer Perceptron\n", 
        "from keras.utils import plot_model\n", 
        "from keras.models import Model\n", 
        "from keras.layers import Input\n", 
        "from keras.layers import Dense\n", 
        "visible = Input(shape=(10,))\n", 
        "hidden1 = Dense(10, activation='relu')(visible)\n", 
        "hidden2 = Dense(20, activation='relu')(hidden1)\n", 
        "hidden3 = Dense(10, activation='relu')(hidden2)\n", 
        "output = Dense(1, activation='sigmoid')(hidden3)\n", 
        "model = Model(inputs=visible, outputs=output)\n", 
        "# summarize layers\n", 
        "model.summary()\n", 
        "# plot graph\n", 
        "plot_model(model, to_file='multilayer_perceptron_graph.png')"
      ], 
      "cell_type": "code", 
      "execution_count": null, 
      "outputs": [], 
      "metadata": {}
    }
  ], 
  "metadata": {
    "kernelspec": {
      "display_name": "Python 3", 
      "name": "python3", 
      "language": "python"
    }, 
    "language_info": {
      "mimetype": "text/x-python", 
      "nbconvert_exporter": "python", 
      "name": "python", 
      "file_extension": ".py", 
      "version": "3.6.1", 
      "pygments_lexer": "ipython3", 
      "codemirror_mode": {
        "version": 3, 
        "name": "ipython"
      }
    }, 
    "anaconda-cloud": {}
  }
}