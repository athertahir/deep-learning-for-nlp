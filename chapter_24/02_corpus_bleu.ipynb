{
  "nbformat_minor": 1, 
  "nbformat": 4, 
  "cells": [
    {
      "source": [
        "# two references for one document\n", 
        "from nltk.translate.bleu_score import corpus_bleu\n", 
        "references = [[['this', 'is', 'a', 'test'], ['this', 'is' 'test']]]\n", 
        "candidates = [['this', 'is', 'a', 'test']]\n", 
        "score = corpus_bleu(references, candidates)\n", 
        "print(score)"
      ], 
      "cell_type": "code", 
      "execution_count": null, 
      "outputs": [], 
      "metadata": {}
    }
  ], 
  "metadata": {
    "kernelspec": {
      "display_name": "Python 3", 
      "name": "python3", 
      "language": "python"
    }, 
    "language_info": {
      "mimetype": "text/x-python", 
      "nbconvert_exporter": "python", 
      "name": "python", 
      "file_extension": ".py", 
      "version": "3.6.1", 
      "pygments_lexer": "ipython3", 
      "codemirror_mode": {
        "version": 3, 
        "name": "ipython"
      }
    }, 
    "anaconda-cloud": {}
  }
}