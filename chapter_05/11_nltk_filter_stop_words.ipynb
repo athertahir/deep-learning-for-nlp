{
  "nbformat_minor": 1, 
  "nbformat": 4, 
  "cells": [
    {
      "source": [
        "import string\n", 
        "import re\n", 
        "from nltk.tokenize import word_tokenize\n", 
        "from nltk.corpus import stopwords\n", 
        "# load data\n", 
        "filename = 'metamorphosis_clean.txt'\n", 
        "file = open(filename, 'rt')\n", 
        "text = file.read()\n", 
        "file.close()\n", 
        "# split into words\n", 
        "tokens = word_tokenize(text)\n", 
        "# convert to lower case\n", 
        "tokens = [w.lower() for w in tokens]\n", 
        "# prepare regex for char filtering\n", 
        "re_punc = re.compile('[%s]' % re.escape(string.punctuation))\n", 
        "# remove punctuation from each word\n", 
        "stripped = [re_punc.sub('', w) for w in tokens]\n", 
        "# remove remaining tokens that are not alphabetic\n", 
        "words = [word for word in stripped if word.isalpha()]\n", 
        "# filter out stop words\n", 
        "stop_words = set(stopwords.words('english'))\n", 
        "words = [w for w in words if not w in stop_words]\n", 
        "print(words[:100])"
      ], 
      "cell_type": "code", 
      "execution_count": null, 
      "outputs": [], 
      "metadata": {}
    }
  ], 
  "metadata": {
    "kernelspec": {
      "display_name": "Python 3", 
      "name": "python3", 
      "language": "python"
    }, 
    "language_info": {
      "mimetype": "text/x-python", 
      "nbconvert_exporter": "python", 
      "name": "python", 
      "file_extension": ".py", 
      "version": "3.6.1", 
      "pygments_lexer": "ipython3", 
      "codemirror_mode": {
        "version": 3, 
        "name": "ipython"
      }
    }, 
    "anaconda-cloud": {}
  }
}