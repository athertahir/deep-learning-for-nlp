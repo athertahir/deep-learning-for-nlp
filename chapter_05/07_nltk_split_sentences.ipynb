{
  "nbformat_minor": 1, 
  "nbformat": 4, 
  "cells": [
    {
      "source": [
        "from nltk import sent_tokenize\n", 
        "# load data\n", 
        "filename = 'metamorphosis_clean.txt'\n", 
        "file = open(filename, 'rt')\n", 
        "text = file.read()\n", 
        "file.close()\n", 
        "# split into sentences\n", 
        "sentences = sent_tokenize(text)\n", 
        "print(sentences[0])"
      ], 
      "cell_type": "code", 
      "execution_count": null, 
      "outputs": [], 
      "metadata": {}
    }
  ], 
  "metadata": {
    "kernelspec": {
      "display_name": "Python 3", 
      "name": "python3", 
      "language": "python"
    }, 
    "language_info": {
      "mimetype": "text/x-python", 
      "nbconvert_exporter": "python", 
      "name": "python", 
      "file_extension": ".py", 
      "version": "3.6.1", 
      "pygments_lexer": "ipython3", 
      "codemirror_mode": {
        "version": 3, 
        "name": "ipython"
      }
    }, 
    "anaconda-cloud": {}
  }
}