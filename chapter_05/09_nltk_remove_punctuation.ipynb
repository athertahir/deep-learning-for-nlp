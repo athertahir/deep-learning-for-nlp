{
  "nbformat_minor": 1, 
  "nbformat": 4, 
  "cells": [
    {
      "source": [
        "from nltk.tokenize import word_tokenize\n", 
        "# load data\n", 
        "filename = 'metamorphosis_clean.txt'\n", 
        "file = open(filename, 'rt')\n", 
        "text = file.read()\n", 
        "file.close()\n", 
        "# split into words\n", 
        "tokens = word_tokenize(text)\n", 
        "# remove all tokens that are not alphabetic\n", 
        "words = [word for word in tokens if word.isalpha()]\n", 
        "print(words[:100])"
      ], 
      "cell_type": "code", 
      "execution_count": null, 
      "outputs": [], 
      "metadata": {}
    }
  ], 
  "metadata": {
    "kernelspec": {
      "display_name": "Python 3", 
      "name": "python3", 
      "language": "python"
    }, 
    "language_info": {
      "mimetype": "text/x-python", 
      "nbconvert_exporter": "python", 
      "name": "python", 
      "file_extension": ".py", 
      "version": "3.6.1", 
      "pygments_lexer": "ipython3", 
      "codemirror_mode": {
        "version": 3, 
        "name": "ipython"
      }
    }, 
    "anaconda-cloud": {}
  }
}