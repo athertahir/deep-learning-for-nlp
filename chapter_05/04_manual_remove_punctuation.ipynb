{
  "nbformat_minor": 1, 
  "nbformat": 4, 
  "cells": [
    {
      "source": [
        "import string\n", 
        "import re\n", 
        "# load text\n", 
        "filename = 'metamorphosis_clean.txt'\n", 
        "file = open(filename, 'rt')\n", 
        "text = file.read()\n", 
        "file.close()\n", 
        "# split into words by white space\n", 
        "words = text.split()\n", 
        "# prepare regex for char filtering\n", 
        "re_punc = re.compile('[%s]' % re.escape(string.punctuation))\n", 
        "# remove punctuation from each word\n", 
        "stripped = [re_punc.sub('', w) for w in words]\n", 
        "print(stripped[:100])"
      ], 
      "cell_type": "code", 
      "execution_count": null, 
      "outputs": [], 
      "metadata": {}
    }
  ], 
  "metadata": {
    "kernelspec": {
      "display_name": "Python 3", 
      "name": "python3", 
      "language": "python"
    }, 
    "language_info": {
      "mimetype": "text/x-python", 
      "nbconvert_exporter": "python", 
      "name": "python", 
      "file_extension": ".py", 
      "version": "3.6.1", 
      "pygments_lexer": "ipython3", 
      "codemirror_mode": {
        "version": 3, 
        "name": "ipython"
      }
    }, 
    "anaconda-cloud": {}
  }
}